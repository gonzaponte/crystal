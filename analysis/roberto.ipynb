{
 "cells": [
  {
   "cell_type": "code",
   "execution_count": 1,
   "id": "612dca0d",
   "metadata": {
    "ExecuteTime": {
     "end_time": "2023-12-20T00:15:23.109085Z",
     "start_time": "2023-12-20T00:15:21.232392Z"
    }
   },
   "outputs": [],
   "source": [
    "import os\n",
    "import numpy  as np\n",
    "import pandas as pd\n",
    "\n",
    "import matplotlib.pyplot as plt\n",
    "from jupyfun import sorted_filenames\n",
    "from nbtools import auto_plot_style"
   ]
  },
  {
   "cell_type": "code",
   "execution_count": 2,
   "id": "134d7d18",
   "metadata": {
    "ExecuteTime": {
     "end_time": "2023-12-20T00:15:23.132040Z",
     "start_time": "2023-12-20T00:15:23.112133Z"
    }
   },
   "outputs": [],
   "source": [
    "%matplotlib inline\n",
    "\n",
    "auto_plot_style()"
   ]
  },
  {
   "cell_type": "markdown",
   "id": "ce192d82",
   "metadata": {},
   "source": [
    "# Transform data"
   ]
  },
  {
   "cell_type": "code",
   "execution_count": 3,
   "id": "ac68d017",
   "metadata": {
    "ExecuteTime": {
     "end_time": "2023-12-20T00:15:39.570536Z",
     "start_time": "2023-12-20T00:15:39.562781Z"
    }
   },
   "outputs": [
    {
     "data": {
      "text/plain": [
       "True"
      ]
     },
     "execution_count": 3,
     "metadata": {},
     "output_type": "execute_result"
    }
   ],
   "source": [
    "filenames = [\"../file-00000.parquet\"]\n",
    "os.path.exists(filenames[0])"
   ]
  },
  {
   "cell_type": "code",
   "execution_count": 4,
   "id": "67b83c7f",
   "metadata": {
    "ExecuteTime": {
     "end_time": "2023-12-20T00:15:43.658986Z",
     "start_time": "2023-12-20T00:15:43.363624Z"
    }
   },
   "outputs": [],
   "source": [
    "data = pd.concat([pd.read_parquet(filename) for filename in filenames], ignore_index=True)"
   ]
  },
  {
   "cell_type": "code",
   "execution_count": 5,
   "id": "bb865f22",
   "metadata": {
    "ExecuteTime": {
     "end_time": "2023-12-20T00:15:43.952382Z",
     "start_time": "2023-12-20T00:15:43.701330Z"
    }
   },
   "outputs": [
    {
     "data": {
      "text/html": [
       "<div>\n",
       "<style scoped>\n",
       "    .dataframe tbody tr th:only-of-type {\n",
       "        vertical-align: middle;\n",
       "    }\n",
       "\n",
       "    .dataframe tbody tr th {\n",
       "        vertical-align: top;\n",
       "    }\n",
       "\n",
       "    .dataframe thead th {\n",
       "        text-align: right;\n",
       "    }\n",
       "</style>\n",
       "<table border=\"1\" class=\"dataframe\">\n",
       "  <thead>\n",
       "    <tr style=\"text-align: right;\">\n",
       "      <th></th>\n",
       "      <th>x</th>\n",
       "      <th>y</th>\n",
       "      <th>z</th>\n",
       "      <th>sipm_0</th>\n",
       "      <th>sipm_1</th>\n",
       "      <th>sipm_2</th>\n",
       "      <th>sipm_3</th>\n",
       "      <th>sipm_4</th>\n",
       "      <th>sipm_5</th>\n",
       "      <th>sipm_6</th>\n",
       "      <th>...</th>\n",
       "      <th>sipm_54</th>\n",
       "      <th>sipm_55</th>\n",
       "      <th>sipm_56</th>\n",
       "      <th>sipm_57</th>\n",
       "      <th>sipm_58</th>\n",
       "      <th>sipm_59</th>\n",
       "      <th>sipm_60</th>\n",
       "      <th>sipm_61</th>\n",
       "      <th>sipm_62</th>\n",
       "      <th>sipm_63</th>\n",
       "    </tr>\n",
       "  </thead>\n",
       "  <tbody>\n",
       "    <tr>\n",
       "      <th>count</th>\n",
       "      <td>1000.000000</td>\n",
       "      <td>1000.000000</td>\n",
       "      <td>1000.000000</td>\n",
       "      <td>1000.000000</td>\n",
       "      <td>1000.000000</td>\n",
       "      <td>1000.000000</td>\n",
       "      <td>1000.000000</td>\n",
       "      <td>1000.000000</td>\n",
       "      <td>1000.000000</td>\n",
       "      <td>1000.000000</td>\n",
       "      <td>...</td>\n",
       "      <td>1000.000000</td>\n",
       "      <td>1000.000000</td>\n",
       "      <td>1000.000000</td>\n",
       "      <td>1000.00000</td>\n",
       "      <td>1000.000000</td>\n",
       "      <td>1000.000000</td>\n",
       "      <td>1000.000000</td>\n",
       "      <td>1000.000000</td>\n",
       "      <td>1000.000000</td>\n",
       "      <td>1000.000000</td>\n",
       "    </tr>\n",
       "    <tr>\n",
       "      <th>mean</th>\n",
       "      <td>0.693666</td>\n",
       "      <td>0.341363</td>\n",
       "      <td>-18.899031</td>\n",
       "      <td>80.836000</td>\n",
       "      <td>82.872000</td>\n",
       "      <td>89.633000</td>\n",
       "      <td>82.865000</td>\n",
       "      <td>85.492000</td>\n",
       "      <td>87.889000</td>\n",
       "      <td>90.019000</td>\n",
       "      <td>...</td>\n",
       "      <td>90.954000</td>\n",
       "      <td>85.635000</td>\n",
       "      <td>89.738000</td>\n",
       "      <td>92.31400</td>\n",
       "      <td>86.667000</td>\n",
       "      <td>84.867000</td>\n",
       "      <td>85.779000</td>\n",
       "      <td>85.433000</td>\n",
       "      <td>87.684000</td>\n",
       "      <td>86.402000</td>\n",
       "    </tr>\n",
       "    <tr>\n",
       "      <th>std</th>\n",
       "      <td>13.927008</td>\n",
       "      <td>13.732667</td>\n",
       "      <td>10.733655</td>\n",
       "      <td>147.868584</td>\n",
       "      <td>116.170854</td>\n",
       "      <td>183.178527</td>\n",
       "      <td>90.156825</td>\n",
       "      <td>123.558304</td>\n",
       "      <td>129.863695</td>\n",
       "      <td>155.764101</td>\n",
       "      <td>...</td>\n",
       "      <td>130.911289</td>\n",
       "      <td>97.055085</td>\n",
       "      <td>193.475234</td>\n",
       "      <td>157.85823</td>\n",
       "      <td>109.028287</td>\n",
       "      <td>83.867557</td>\n",
       "      <td>112.066431</td>\n",
       "      <td>96.107347</td>\n",
       "      <td>119.701456</td>\n",
       "      <td>148.570366</td>\n",
       "    </tr>\n",
       "    <tr>\n",
       "      <th>min</th>\n",
       "      <td>-23.943089</td>\n",
       "      <td>-23.843510</td>\n",
       "      <td>-36.989368</td>\n",
       "      <td>19.000000</td>\n",
       "      <td>19.000000</td>\n",
       "      <td>20.000000</td>\n",
       "      <td>29.000000</td>\n",
       "      <td>28.000000</td>\n",
       "      <td>26.000000</td>\n",
       "      <td>24.000000</td>\n",
       "      <td>...</td>\n",
       "      <td>25.000000</td>\n",
       "      <td>29.000000</td>\n",
       "      <td>23.000000</td>\n",
       "      <td>22.00000</td>\n",
       "      <td>23.000000</td>\n",
       "      <td>25.000000</td>\n",
       "      <td>30.000000</td>\n",
       "      <td>17.000000</td>\n",
       "      <td>26.000000</td>\n",
       "      <td>24.000000</td>\n",
       "    </tr>\n",
       "    <tr>\n",
       "      <th>25%</th>\n",
       "      <td>-10.975836</td>\n",
       "      <td>-11.260427</td>\n",
       "      <td>-28.027728</td>\n",
       "      <td>51.000000</td>\n",
       "      <td>51.000000</td>\n",
       "      <td>51.000000</td>\n",
       "      <td>52.000000</td>\n",
       "      <td>52.000000</td>\n",
       "      <td>53.000000</td>\n",
       "      <td>51.000000</td>\n",
       "      <td>...</td>\n",
       "      <td>52.000000</td>\n",
       "      <td>52.000000</td>\n",
       "      <td>51.000000</td>\n",
       "      <td>53.00000</td>\n",
       "      <td>53.000000</td>\n",
       "      <td>54.000000</td>\n",
       "      <td>53.000000</td>\n",
       "      <td>53.000000</td>\n",
       "      <td>53.000000</td>\n",
       "      <td>53.000000</td>\n",
       "    </tr>\n",
       "    <tr>\n",
       "      <th>50%</th>\n",
       "      <td>1.043991</td>\n",
       "      <td>0.351482</td>\n",
       "      <td>-19.373254</td>\n",
       "      <td>61.000000</td>\n",
       "      <td>61.000000</td>\n",
       "      <td>61.000000</td>\n",
       "      <td>62.000000</td>\n",
       "      <td>63.000000</td>\n",
       "      <td>62.000000</td>\n",
       "      <td>62.000000</td>\n",
       "      <td>...</td>\n",
       "      <td>61.000000</td>\n",
       "      <td>62.000000</td>\n",
       "      <td>63.000000</td>\n",
       "      <td>63.00000</td>\n",
       "      <td>63.000000</td>\n",
       "      <td>64.000000</td>\n",
       "      <td>64.000000</td>\n",
       "      <td>63.500000</td>\n",
       "      <td>62.000000</td>\n",
       "      <td>63.000000</td>\n",
       "    </tr>\n",
       "    <tr>\n",
       "      <th>75%</th>\n",
       "      <td>13.048984</td>\n",
       "      <td>12.337978</td>\n",
       "      <td>-9.278250</td>\n",
       "      <td>75.250000</td>\n",
       "      <td>78.000000</td>\n",
       "      <td>80.000000</td>\n",
       "      <td>82.000000</td>\n",
       "      <td>83.000000</td>\n",
       "      <td>82.250000</td>\n",
       "      <td>79.000000</td>\n",
       "      <td>...</td>\n",
       "      <td>82.000000</td>\n",
       "      <td>79.000000</td>\n",
       "      <td>80.000000</td>\n",
       "      <td>81.25000</td>\n",
       "      <td>85.000000</td>\n",
       "      <td>86.000000</td>\n",
       "      <td>85.000000</td>\n",
       "      <td>82.250000</td>\n",
       "      <td>79.000000</td>\n",
       "      <td>77.000000</td>\n",
       "    </tr>\n",
       "    <tr>\n",
       "      <th>max</th>\n",
       "      <td>23.919647</td>\n",
       "      <td>23.998554</td>\n",
       "      <td>-0.011971</td>\n",
       "      <td>3704.000000</td>\n",
       "      <td>2299.000000</td>\n",
       "      <td>3608.000000</td>\n",
       "      <td>1479.000000</td>\n",
       "      <td>2811.000000</td>\n",
       "      <td>2426.000000</td>\n",
       "      <td>3128.000000</td>\n",
       "      <td>...</td>\n",
       "      <td>3115.000000</td>\n",
       "      <td>1755.000000</td>\n",
       "      <td>4057.000000</td>\n",
       "      <td>3083.00000</td>\n",
       "      <td>2296.000000</td>\n",
       "      <td>1244.000000</td>\n",
       "      <td>2189.000000</td>\n",
       "      <td>1524.000000</td>\n",
       "      <td>2466.000000</td>\n",
       "      <td>3154.000000</td>\n",
       "    </tr>\n",
       "  </tbody>\n",
       "</table>\n",
       "<p>8 rows × 67 columns</p>\n",
       "</div>"
      ],
      "text/plain": [
       "                 x            y            z       sipm_0       sipm_1  \\\n",
       "count  1000.000000  1000.000000  1000.000000  1000.000000  1000.000000   \n",
       "mean      0.693666     0.341363   -18.899031    80.836000    82.872000   \n",
       "std      13.927008    13.732667    10.733655   147.868584   116.170854   \n",
       "min     -23.943089   -23.843510   -36.989368    19.000000    19.000000   \n",
       "25%     -10.975836   -11.260427   -28.027728    51.000000    51.000000   \n",
       "50%       1.043991     0.351482   -19.373254    61.000000    61.000000   \n",
       "75%      13.048984    12.337978    -9.278250    75.250000    78.000000   \n",
       "max      23.919647    23.998554    -0.011971  3704.000000  2299.000000   \n",
       "\n",
       "            sipm_2       sipm_3       sipm_4       sipm_5       sipm_6  ...  \\\n",
       "count  1000.000000  1000.000000  1000.000000  1000.000000  1000.000000  ...   \n",
       "mean     89.633000    82.865000    85.492000    87.889000    90.019000  ...   \n",
       "std     183.178527    90.156825   123.558304   129.863695   155.764101  ...   \n",
       "min      20.000000    29.000000    28.000000    26.000000    24.000000  ...   \n",
       "25%      51.000000    52.000000    52.000000    53.000000    51.000000  ...   \n",
       "50%      61.000000    62.000000    63.000000    62.000000    62.000000  ...   \n",
       "75%      80.000000    82.000000    83.000000    82.250000    79.000000  ...   \n",
       "max    3608.000000  1479.000000  2811.000000  2426.000000  3128.000000  ...   \n",
       "\n",
       "           sipm_54      sipm_55      sipm_56     sipm_57      sipm_58  \\\n",
       "count  1000.000000  1000.000000  1000.000000  1000.00000  1000.000000   \n",
       "mean     90.954000    85.635000    89.738000    92.31400    86.667000   \n",
       "std     130.911289    97.055085   193.475234   157.85823   109.028287   \n",
       "min      25.000000    29.000000    23.000000    22.00000    23.000000   \n",
       "25%      52.000000    52.000000    51.000000    53.00000    53.000000   \n",
       "50%      61.000000    62.000000    63.000000    63.00000    63.000000   \n",
       "75%      82.000000    79.000000    80.000000    81.25000    85.000000   \n",
       "max    3115.000000  1755.000000  4057.000000  3083.00000  2296.000000   \n",
       "\n",
       "           sipm_59      sipm_60      sipm_61      sipm_62      sipm_63  \n",
       "count  1000.000000  1000.000000  1000.000000  1000.000000  1000.000000  \n",
       "mean     84.867000    85.779000    85.433000    87.684000    86.402000  \n",
       "std      83.867557   112.066431    96.107347   119.701456   148.570366  \n",
       "min      25.000000    30.000000    17.000000    26.000000    24.000000  \n",
       "25%      54.000000    53.000000    53.000000    53.000000    53.000000  \n",
       "50%      64.000000    64.000000    63.500000    62.000000    63.000000  \n",
       "75%      86.000000    85.000000    82.250000    79.000000    77.000000  \n",
       "max    1244.000000  2189.000000  1524.000000  2466.000000  3154.000000  \n",
       "\n",
       "[8 rows x 67 columns]"
      ]
     },
     "execution_count": 5,
     "metadata": {},
     "output_type": "execute_result"
    }
   ],
   "source": [
    "data.describe()"
   ]
  },
  {
   "cell_type": "code",
   "execution_count": 24,
   "id": "6ba7d79c",
   "metadata": {
    "ExecuteTime": {
     "end_time": "2023-12-18T21:23:47.122792Z",
     "start_time": "2023-12-18T21:23:46.024049Z"
    }
   },
   "outputs": [],
   "source": [
    "acc_evt = 0\n",
    "for filename in filenames:\n",
    "    file_index = int(os.path.basename(filename).split(\"-\")[1].split(\".\")[0])\n",
    "    data = pd.read_parquet(filename)\n",
    "    subfile = 0\n",
    "    while len(data):\n",
    "        df   = data.iloc[:10000]\n",
    "        data = data.iloc[10000:]\n",
    "        df   = df.insert(loc=0, column=\"evt\", value=acc_evt + np.arange(len(df)))\n",
    "        acc_evt += len(df)\n",
    "\n",
    "        csv_filename = f\"output/file_{file_index}_{subfile}.csv\"\n",
    "        npy_filename = csv_file.replace(\".csv\", \".npy\")\n",
    "\n",
    "        df.filter(columns=\"evt x y z\".split()).to_csv(csv_filename, header=True)\n",
    "        df.filter(regexp=\"sipm*\").values.reshape(len(df), 8, 8)\n",
    "        for _, row in df.iterrows():\n",
    "            output_file = f\"output/file_{file_index:>01}_evt_{evt_index:>05}\"\n",
    "            open(output_file + \".csv\", \"w\").write(f\"{row.x}, {row.y}, {row.z}\\n\")\n",
    "\n",
    "            sipms = row.filter(regex=\"sipm*\").values.reshape(8, 8)\n",
    "            np.save(output_file + \".npy\", sipms)"
   ]
  },
  {
   "cell_type": "code",
   "execution_count": null,
   "id": "b7bf3734",
   "metadata": {},
   "outputs": [],
   "source": [
    "data.to_csv()"
   ]
  },
  {
   "cell_type": "code",
   "execution_count": 7,
   "id": "2bccd354",
   "metadata": {
    "ExecuteTime": {
     "end_time": "2023-12-20T09:16:22.941180Z",
     "start_time": "2023-12-20T09:16:22.932596Z"
    }
   },
   "outputs": [
    {
     "data": {
      "text/plain": [
       "(10, 67)"
      ]
     },
     "execution_count": 7,
     "metadata": {},
     "output_type": "execute_result"
    }
   ],
   "source": [
    "data.iloc[:10].values.shape"
   ]
  },
  {
   "cell_type": "code",
   "execution_count": null,
   "id": "36f09504",
   "metadata": {},
   "outputs": [],
   "source": []
  }
 ],
 "metadata": {
  "kernelspec": {
   "display_name": "Python 3 (ipykernel)",
   "language": "python",
   "name": "python3"
  },
  "language_info": {
   "codemirror_mode": {
    "name": "ipython",
    "version": 3
   },
   "file_extension": ".py",
   "mimetype": "text/x-python",
   "name": "python",
   "nbconvert_exporter": "python",
   "pygments_lexer": "ipython3",
   "version": "3.10.11"
  },
  "toc": {
   "base_numbering": 1,
   "nav_menu": {},
   "number_sections": true,
   "sideBar": true,
   "skip_h1_title": false,
   "title_cell": "Table of Contents",
   "title_sidebar": "Contents",
   "toc_cell": false,
   "toc_position": {},
   "toc_section_display": true,
   "toc_window_display": false
  }
 },
 "nbformat": 4,
 "nbformat_minor": 5
}
